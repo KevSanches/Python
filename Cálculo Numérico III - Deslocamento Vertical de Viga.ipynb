{
 "cells": [
  {
   "cell_type": "code",
   "execution_count": 20,
   "metadata": {},
   "outputs": [
    {
     "name": "stdout",
     "output_type": "stream",
     "text": [
      "Trabalho Referente à terceira nota da disciplina de Cálculo Numérico\n",
      "Alunos: Caio Bertoldo, Carlos Henrique, Gabriel Lopes, Kevin Sanches\n",
      "Exercício 9.7\n",
      "\n",
      "\n",
      "\n",
      "Uma viga em balanço é carregada com uma carga uniformemente distribuiída de 1 t/m.\n",
      "Dado um módulo de elasticidade do concreto de 2*10^6 t/m², o deslocamento vertical na extremidade em balanço pode ser dado como uma integral em x.\n",
      "\n",
      "A altura da seção da viga segue uma reta, como:\n"
     ]
    },
    {
     "data": {
      "image/png": "[encoded data removed]",
      "text/plain": [
       "<Figure size 432x288 with 1 Axes>"
      ]
     },
     "metadata": {},
     "output_type": "display_data"
    },
    {
     "name": "stdout",
     "output_type": "stream",
     "text": [
      "Portanto, pode-se definir a altura da seção da viga como a reta H = 0.6-0.133*x\n",
      "\n",
      "Utilizando o método do 3/8 de Simpson, uma vez tendo obtido a equação que rege a altura da seção, utlizando 30 subintervalos para melhor aproximação do resultado real, obtêm-se o deslocamento vertical de  0.002465 m.\n"
     ]
    }
   ],
   "source": [
    "import matplotlib.pyplot as plt\n",
    "\n",
    "altx = [0,1,2,3]\n",
    "alty = [0.60, 0.4667, 0.3333, 0.2]\n",
    "E = 2000000\n",
    "l = 3\n",
    "b = 0.2\n",
    "n = 30\n",
    "h = 3/n\n",
    "mult3 = []\n",
    "mult2 = []\n",
    "i = 1\n",
    "c = 0\n",
    "d = 0\n",
    "\n",
    "def Func(x): \n",
    "    fH = 0.6-((0.4/3)*x)\n",
    "    fI = ((((l-x)**2)/2)*(l-x))/((E*b*((fH)**3))/12)\n",
    "    return fI\n",
    "\n",
    "while i<30:\n",
    "    if (i%3 == 0):\n",
    "        mult2.append(i)\n",
    "    if (i%3 != 0):\n",
    "        mult3.append(i)\n",
    "    i += 1\n",
    "    \n",
    "for j in range (len(mult3)):\n",
    "    c += (Func((mult3[j])/10)) \n",
    "\n",
    "for k in range (len(mult2)):\n",
    "    d += (Func((mult2[k])/10))\n",
    "\n",
    "Res = ((3/8)*h)*(Func(0) + (3*c) + (2*d) + Func(3))\n",
    "\n",
    "print (\"Trabalho Referente à terceira nota da disciplina de Cálculo Numérico\")\n",
    "print (\"Alunos: Caio Bertoldo, Carlos Henrique, Gabriel Lopes, Kevin Sanches\")\n",
    "print (\"Exercício 9.7\")\n",
    "print ()\n",
    "print ()\n",
    "print ()\n",
    "print (\"Uma viga em balanço é carregada com uma carga uniformemente distribuiída de 1 t/m.\")\n",
    "print (\"Dado um módulo de elasticidade do concreto de 2*10^6 t/m², o deslocamento vertical na extremidade em balanço pode ser dado como uma integral em x.\")\n",
    "print ()\n",
    "print (\"A altura da seção da viga segue uma reta, como:\")\n",
    "\n",
    "plt.plot(altx, alty)\n",
    "plt.xlabel('Comprimento da Viga')\n",
    "plt.ylabel('Altura da Seção')\n",
    "plt.show()\n",
    "\n",
    "print (\"Portanto, pode-se definir a altura da seção da viga como a reta H = 0.6-0.133*x\")\n",
    "\n",
    "print ()\n",
    "print (\"Utilizando o método do 3/8 de Simpson, uma vez tendo obtido a equação que rege a altura da seção, utlizando 30 subintervalos para melhor aproximação do resultado real, obtêm-se o deslocamento vertical de \", format(Res, '5f'), \"m.\")\n",
    "    "
   ]
  },
  {
   "cell_type": "code",
   "execution_count": null,
   "metadata": {},
   "outputs": [],
   "source": []
  },
  {
   "cell_type": "code",
   "execution_count": null,
   "metadata": {},
   "outputs": [],
   "source": []
  }
 ],
 "metadata": {
  "kernelspec": {
   "display_name": "Python 3",
   "language": "python",
   "name": "python3"
  },
  "language_info": {
   "codemirror_mode": {
    "name": "ipython",
    "version": 3
   },
   "file_extension": ".py",
   "mimetype": "text/x-python",
   "name": "python",
   "nbconvert_exporter": "python",
   "pygments_lexer": "ipython3",
   "version": "3.6.5"
  }
 },
 "nbformat": 4,
 "nbformat_minor": 2
}
